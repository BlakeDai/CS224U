{
 "cells": [
  {
   "cell_type": "markdown",
   "metadata": {},
   "source": [
    "# Vector-space models: Static representations from contextual models"
   ]
  },
  {
   "cell_type": "code",
   "execution_count": 1,
   "metadata": {},
   "outputs": [],
   "source": [
    "__author__ = \"Christopher Potts\"\n",
    "__version__ = \"CS224u, Stanford, Spring 2021\""
   ]
  },
  {
   "cell_type": "markdown",
   "metadata": {},
   "source": [
    "## Contents\n",
    "\n",
    "1. [Overview](#Overview)\n",
    "1. [General set-up](#General-set-up)\n",
    "1. [Loading Transformer models](#Loading-Transformer-models)\n",
    "1. [The basics of tokenizing](#The-basics-of-tokenizing)\n",
    "1. [The basics of representations](#The-basics-of-representations)\n",
    "1. [The decontextualized approach](#The-decontextualized-approach)\n",
    "  1. [Basic example](#Basic-example)\n",
    "  1. [Creating a full VSM](#Creating-a-full-VSM)\n",
    "1. [The aggregated approach](#The-aggregated-approach)\n",
    "1. [Some related work](#Some-related-work)"
   ]
  },
  {
   "cell_type": "markdown",
   "metadata": {},
   "source": [
    "## Overview\n",
    "\n"
   ]
  },
  {
   "cell_type": "markdown",
   "metadata": {},
   "source": [
    "Can we get good static representations of words from models (like BERT) that supply only contextual representations? On the one hand, contextual models are very successful across a wide range of tasks, in large part because they are trained for a long time on a lot of data. This should be a boon for VSMs as we've designed them so far. On the other hand, the goal of having static representations might seem to be at odds with how these models process examples and represent examples. Part of the point is to obtain different representations for words depending on the context in which they occur, and a hallmark of the training procedure is that it processes sequences rather than individual words.\n",
    "\n",
    "[Bommasani et al. (2020)](https://www.aclweb.org/anthology/2020.acl-main.431) make a significant step forward in our understanding of these issues. Ultimately, they arrive at a positive answer: excellent static word representations can be obtained from contextual models. They explore two strategies for achieving this:\n",
    "\n",
    "1. __The decontextualized approach__: just process individual words as though they were isolated texts. Where a word consists of multiple tokens in the model, pool them with a function like mean or max.\n",
    "1. __The aggregrated approach__: process lots and lots of texts containing the words of interest. As before, pool sub-word tokens, and also pool across all the pooled representations.\n",
    "\n",
    "As Bommasani et al. say, the decontextualized approach \"presents an unnatural input\" – these models were not trained on individual words, but rather on longer sequences, so the individual words are infrequent kinds of inputs at best (and unattested as far as the model is concerned if the special boundary tokens [CLS] and [SEP] are not included). However, in practice, Bommasani et al. achieve very impressive results with this approach on word similarity/relatedness tasks.\n",
    "\n",
    "The aggregrated approach is even better, but it requires more work and involves more decisions relating to which texts are processed.\n",
    "\n",
    "This notebook briefly explores both of these approaches, with the goal of making it easy for you to apply these methods in [the associated homework and bakeoff](hw_wordrelatedness.ipynb)."
   ]
  },
  {
   "cell_type": "markdown",
   "metadata": {},
   "source": [
    "## General set-up\n",
    "\n"
   ]
  },
  {
   "cell_type": "code",
   "execution_count": 1,
   "metadata": {},
   "outputs": [],
   "source": [
    "import os\n",
    "import pandas as pd\n",
    "import torch\n",
    "from transformers import BertModel, BertTokenizer\n",
    "from transformers import RobertaModel, RobertaTokenizer\n",
    "\n",
    "import utils\n",
    "import vsm"
   ]
  },
  {
   "cell_type": "code",
   "execution_count": 2,
   "metadata": {},
   "outputs": [],
   "source": [
    "DATA_HOME = os.path.join('data', 'vsmdata')"
   ]
  },
  {
   "cell_type": "code",
   "execution_count": 3,
   "metadata": {},
   "outputs": [],
   "source": [
    "utils.fix_random_seeds()"
   ]
  },
  {
   "cell_type": "markdown",
   "metadata": {},
   "source": [
    "The `transformers` library does a lot of logging. To avoid ending up with a cluttered notebook, I am changing the logging level. You might want to skip this as you scale up to building production systems, since the logging is very good – it gives you a lot of insights into what the models and code are doing."
   ]
  },
  {
   "cell_type": "code",
   "execution_count": 5,
   "metadata": {},
   "outputs": [],
   "source": [
    "import logging\n",
    "logger = logging.getLogger()\n",
    "logger.level = logging.ERROR"
   ]
  },
  {
   "cell_type": "markdown",
   "metadata": {},
   "source": [
    "## Loading Transformer models\n",
    "\n",
    "To start, let's get a feel for the basic API that `transformers` provides. The first step is specifying the pretrained parameters we'll be using:"
   ]
  },
  {
   "cell_type": "code",
   "execution_count": 2,
   "metadata": {},
   "outputs": [],
   "source": [
    "bert_weights_name = 'bert-base-uncased'"
   ]
  },
  {
   "cell_type": "markdown",
   "metadata": {},
   "source": [
    "There are lots other options for pretrained weights. See [this Hugging Face directory](https://huggingface.co/models)."
   ]
  },
  {
   "cell_type": "markdown",
   "metadata": {},
   "source": [
    "Next, we specify a tokenizer and a model that match both each other and our choice of pretrained weights:"
   ]
  },
  {
   "cell_type": "code",
   "execution_count": 3,
   "metadata": {},
   "outputs": [],
   "source": [
    "bert_tokenizer = BertTokenizer.from_pretrained(bert_weights_name)"
   ]
  },
  {
   "cell_type": "code",
   "execution_count": 4,
   "metadata": {},
   "outputs": [],
   "source": [
    "bert_model = BertModel.from_pretrained(bert_weights_name)"
   ]
  },
  {
   "cell_type": "markdown",
   "metadata": {},
   "source": [
    "## The basics of tokenizing"
   ]
  },
  {
   "cell_type": "markdown",
   "metadata": {},
   "source": [
    "It's illuminating to see what the tokenizer does to example texts:"
   ]
  },
  {
   "cell_type": "code",
   "execution_count": 36,
   "metadata": {},
   "outputs": [],
   "source": [
    "example_text = \"kjahsfouhasuidf aoipsufoiwauerlijg aposdfpok;lcs\""
   ]
  },
  {
   "cell_type": "markdown",
   "metadata": {},
   "source": [
    "Simple tokenization:"
   ]
  },
  {
   "cell_type": "code",
   "execution_count": 37,
   "metadata": {},
   "outputs": [
    {
     "data": {
      "text/plain": [
       "['k',\n",
       " '##jah',\n",
       " '##sf',\n",
       " '##ou',\n",
       " '##has',\n",
       " '##uid',\n",
       " '##f',\n",
       " 'ao',\n",
       " '##ip',\n",
       " '##su',\n",
       " '##fo',\n",
       " '##i',\n",
       " '##wa',\n",
       " '##uer',\n",
       " '##li',\n",
       " '##j',\n",
       " '##g',\n",
       " 'ap',\n",
       " '##os',\n",
       " '##df',\n",
       " '##po',\n",
       " '##k',\n",
       " ';',\n",
       " 'lc',\n",
       " '##s']"
      ]
     },
     "execution_count": 37,
     "metadata": {},
     "output_type": "execute_result"
    }
   ],
   "source": [
    "bert_tokenizer.tokenize(example_text)"
   ]
  },
  {
   "cell_type": "markdown",
   "metadata": {},
   "source": [
    "The `encode` method maps individual strings to indices into the underlying embedding used by the model:"
   ]
  },
  {
   "cell_type": "code",
   "execution_count": 38,
   "metadata": {},
   "outputs": [
    {
     "data": {
      "text/plain": [
       "[101,\n",
       " 1047,\n",
       " 18878,\n",
       " 22747,\n",
       " 7140,\n",
       " 14949,\n",
       " 21272,\n",
       " 2546,\n",
       " 20118,\n",
       " 11514,\n",
       " 6342,\n",
       " 14876,\n",
       " 2072,\n",
       " 4213,\n",
       " 13094,\n",
       " 3669,\n",
       " 3501,\n",
       " 2290,\n",
       " 9706,\n",
       " 2891,\n",
       " 20952,\n",
       " 6873,\n",
       " 2243,\n",
       " 1025,\n",
       " 29215,\n",
       " 2015,\n",
       " 102]"
      ]
     },
     "execution_count": 38,
     "metadata": {},
     "output_type": "execute_result"
    }
   ],
   "source": [
    "ex_ids = bert_tokenizer.encode(example_text, add_special_tokens=True)\n",
    "\n",
    "ex_ids"
   ]
  },
  {
   "cell_type": "code",
   "execution_count": 60,
   "metadata": {},
   "outputs": [
    {
     "ename": "AttributeError",
     "evalue": "'list' object has no attribute 'shape'",
     "output_type": "error",
     "traceback": [
      "\u001b[1;31m---------------------------------------------------------------------------\u001b[0m",
      "\u001b[1;31mAttributeError\u001b[0m                            Traceback (most recent call last)",
      "\u001b[1;32m<ipython-input-60-d6fccdc88e7b>\u001b[0m in \u001b[0;36m<module>\u001b[1;34m\u001b[0m\n\u001b[1;32m----> 1\u001b[1;33m \u001b[0mex_ids\u001b[0m\u001b[1;33m.\u001b[0m\u001b[0mshape\u001b[0m\u001b[1;33m\u001b[0m\u001b[1;33m\u001b[0m\u001b[0m\n\u001b[0m",
      "\u001b[1;31mAttributeError\u001b[0m: 'list' object has no attribute 'shape'"
     ]
    }
   ],
   "source": [
    "ex_ids.shape"
   ]
  },
  {
   "cell_type": "markdown",
   "metadata": {},
   "source": [
    "We can get a better feel for what these representations are like by mapping the indices back to \"words\":"
   ]
  },
  {
   "cell_type": "code",
   "execution_count": 39,
   "metadata": {},
   "outputs": [
    {
     "data": {
      "text/plain": [
       "['[CLS]',\n",
       " 'k',\n",
       " '##jah',\n",
       " '##sf',\n",
       " '##ou',\n",
       " '##has',\n",
       " '##uid',\n",
       " '##f',\n",
       " 'ao',\n",
       " '##ip',\n",
       " '##su',\n",
       " '##fo',\n",
       " '##i',\n",
       " '##wa',\n",
       " '##uer',\n",
       " '##li',\n",
       " '##j',\n",
       " '##g',\n",
       " 'ap',\n",
       " '##os',\n",
       " '##df',\n",
       " '##po',\n",
       " '##k',\n",
       " ';',\n",
       " 'lc',\n",
       " '##s',\n",
       " '[SEP]']"
      ]
     },
     "execution_count": 39,
     "metadata": {},
     "output_type": "execute_result"
    }
   ],
   "source": [
    "bert_tokenizer.convert_ids_to_tokens(ex_ids)"
   ]
  },
  {
   "cell_type": "code",
   "execution_count": 41,
   "metadata": {},
   "outputs": [
    {
     "data": {
      "text/plain": [
       "['[PAD]', '[unused0]', '[unused1]', '[unused2]', '[unused3]', '[unused55]']"
      ]
     },
     "execution_count": 41,
     "metadata": {},
     "output_type": "execute_result"
    }
   ],
   "source": [
    "bert_tokenizer.convert_ids_to_tokens([0,1,2,3,4,56])"
   ]
  },
  {
   "cell_type": "markdown",
   "metadata": {},
   "source": [
    "Those are all the essential ingredients for working with these parameters in Hugging Face. Of course, the library has a lot of other functionality, but the above suffices for our current application."
   ]
  },
  {
   "cell_type": "markdown",
   "metadata": {},
   "source": [
    "## Chinese BERT tokenizer"
   ]
  },
  {
   "cell_type": "code",
   "execution_count": 9,
   "metadata": {},
   "outputs": [],
   "source": [
    "bert_weights_name = 'bert-base-chinese'"
   ]
  },
  {
   "cell_type": "markdown",
   "metadata": {},
   "source": [
    "There are lots other options for pretrained weights. See [this Hugging Face directory](https://huggingface.co/models)."
   ]
  },
  {
   "cell_type": "markdown",
   "metadata": {},
   "source": [
    "Next, we specify a tokenizer and a model that match both each other and our choice of pretrained weights:"
   ]
  },
  {
   "cell_type": "code",
   "execution_count": 10,
   "metadata": {},
   "outputs": [
    {
     "data": {
      "application/vnd.jupyter.widget-view+json": {
       "model_id": "45bff6dac18646c3bf45e09fc017f303",
       "version_major": 2,
       "version_minor": 0
      },
      "text/plain": [
       "Downloading:   0%|          | 0.00/110k [00:00<?, ?B/s]"
      ]
     },
     "metadata": {},
     "output_type": "display_data"
    }
   ],
   "source": [
    "bert_tokenizer = BertTokenizer.from_pretrained(bert_weights_name)"
   ]
  },
  {
   "cell_type": "code",
   "execution_count": 11,
   "metadata": {},
   "outputs": [
    {
     "data": {
      "application/vnd.jupyter.widget-view+json": {
       "model_id": "c122016348e746389d2167f1c2807a35",
       "version_major": 2,
       "version_minor": 0
      },
      "text/plain": [
       "Downloading:   0%|          | 0.00/624 [00:00<?, ?B/s]"
      ]
     },
     "metadata": {},
     "output_type": "display_data"
    },
    {
     "data": {
      "application/vnd.jupyter.widget-view+json": {
       "model_id": "d93986e5b1114744b0bb3d483c26fe77",
       "version_major": 2,
       "version_minor": 0
      },
      "text/plain": [
       "Downloading:   0%|          | 0.00/412M [00:00<?, ?B/s]"
      ]
     },
     "metadata": {},
     "output_type": "display_data"
    }
   ],
   "source": [
    "bert_model = BertModel.from_pretrained(bert_weights_name)"
   ]
  },
  {
   "cell_type": "markdown",
   "metadata": {},
   "source": [
    "## The basics of tokenizing"
   ]
  },
  {
   "cell_type": "markdown",
   "metadata": {},
   "source": [
    "It's illuminating to see what the tokenizer does to example texts:"
   ]
  },
  {
   "cell_type": "code",
   "execution_count": 16,
   "metadata": {},
   "outputs": [],
   "source": [
    "example_text = \"证监会与公安部对此展开了联合调查。调查人员发现，惠发食品和嘉美包装背后都存在操盘方，而操盘方采取了截然不同的出货形式，惠发食品用了将近一周的时间完成全部出货，而嘉美包装采用的则是暴力出货，仅仅几分钟就完成了4亿多元的出货。\""
   ]
  },
  {
   "cell_type": "code",
   "execution_count": 18,
   "metadata": {},
   "outputs": [
    {
     "name": "stdout",
     "output_type": "stream",
     "text": [
      "Collecting jieba\n",
      "  Downloading jieba-0.42.1.tar.gz (19.2 MB)\n",
      "Building wheels for collected packages: jieba\n",
      "  Building wheel for jieba (setup.py): started\n",
      "  Building wheel for jieba (setup.py): finished with status 'done'\n",
      "  Created wheel for jieba: filename=jieba-0.42.1-py3-none-any.whl size=19314477 sha256=dc47ede4513680d3923897390ce2862db7fdad3bb59bb60dd0c04e5c9904bab8\n",
      "  Stored in directory: c:\\users\\71035\\appdata\\local\\pip\\cache\\wheels\\ca\\38\\d8\\dfdfe73bec1d12026b30cb7ce8da650f3f0ea2cf155ea018ae\n",
      "Successfully built jieba\n",
      "Installing collected packages: jieba\n",
      "Successfully installed jieba-0.42.1\n"
     ]
    }
   ],
   "source": [
    "!pip install jieba"
   ]
  },
  {
   "cell_type": "code",
   "execution_count": 24,
   "metadata": {},
   "outputs": [],
   "source": [
    "import jieba\n",
    "splitted_example_text = jieba.cut(example_text, cut_all=False)\n",
    "# print(list(splitted_example_text))"
   ]
  },
  {
   "cell_type": "code",
   "execution_count": 25,
   "metadata": {},
   "outputs": [
    {
     "data": {
      "text/plain": [
       "['证',\n",
       " '监',\n",
       " '会',\n",
       " '与',\n",
       " '公',\n",
       " '安',\n",
       " '部',\n",
       " '对',\n",
       " '此',\n",
       " '展',\n",
       " '开',\n",
       " '了',\n",
       " '联',\n",
       " '合',\n",
       " '调',\n",
       " '查',\n",
       " '。',\n",
       " '调',\n",
       " '查',\n",
       " '人',\n",
       " '员',\n",
       " '发',\n",
       " '现',\n",
       " '，',\n",
       " '惠',\n",
       " '发',\n",
       " '食',\n",
       " '品',\n",
       " '和',\n",
       " '嘉',\n",
       " '美',\n",
       " '包',\n",
       " '装',\n",
       " '背',\n",
       " '后',\n",
       " '都',\n",
       " '存',\n",
       " '在',\n",
       " '操',\n",
       " '盘',\n",
       " '方',\n",
       " '，',\n",
       " '而',\n",
       " '操',\n",
       " '盘',\n",
       " '方',\n",
       " '采',\n",
       " '取',\n",
       " '了',\n",
       " '截',\n",
       " '然',\n",
       " '不',\n",
       " '同',\n",
       " '的',\n",
       " '出',\n",
       " '货',\n",
       " '形',\n",
       " '式',\n",
       " '，',\n",
       " '惠',\n",
       " '发',\n",
       " '食',\n",
       " '品',\n",
       " '用',\n",
       " '了',\n",
       " '将',\n",
       " '近',\n",
       " '一',\n",
       " '周',\n",
       " '的',\n",
       " '时',\n",
       " '间',\n",
       " '完',\n",
       " '成',\n",
       " '全',\n",
       " '部',\n",
       " '出',\n",
       " '货',\n",
       " '，',\n",
       " '而',\n",
       " '嘉',\n",
       " '美',\n",
       " '包',\n",
       " '装',\n",
       " '采',\n",
       " '用',\n",
       " '的',\n",
       " '则',\n",
       " '是',\n",
       " '暴',\n",
       " '力',\n",
       " '出',\n",
       " '货',\n",
       " '，',\n",
       " '仅',\n",
       " '仅',\n",
       " '几',\n",
       " '分',\n",
       " '钟',\n",
       " '就',\n",
       " '完',\n",
       " '成',\n",
       " '了',\n",
       " '4',\n",
       " '亿',\n",
       " '多',\n",
       " '元',\n",
       " '的',\n",
       " '出',\n",
       " '货',\n",
       " '。']"
      ]
     },
     "execution_count": 25,
     "metadata": {},
     "output_type": "execute_result"
    }
   ],
   "source": [
    "splitted_example_text = \" \".join(list(splitted_example_text))\n",
    "bert_tokenizer.tokenize(splitted_example_text)"
   ]
  },
  {
   "cell_type": "code",
   "execution_count": 26,
   "metadata": {},
   "outputs": [
    {
     "data": {
      "text/plain": [
       "'证监会 与 公安部 对此 展开 了 联合 调查 。 调查 人员 发现 ， 惠发 食品 和 嘉美 包装 背后 都 存在 操盘 方 ， 而 操盘 方 采取 了 截然不同 的 出货 形式 ， 惠发 食品 用 了 将近 一周 的 时间 完成 全部 出货 ， 而嘉美 包装 采用 的 则 是 暴力 出货 ， 仅仅 几分钟 就 完成 了 4 亿多元 的 出货 。'"
      ]
     },
     "execution_count": 26,
     "metadata": {},
     "output_type": "execute_result"
    }
   ],
   "source": [
    "splitted_example_text"
   ]
  },
  {
   "cell_type": "markdown",
   "metadata": {},
   "source": [
    "Simple tokenization:"
   ]
  },
  {
   "cell_type": "code",
   "execution_count": 17,
   "metadata": {},
   "outputs": [
    {
     "data": {
      "text/plain": [
       "['证',\n",
       " '监',\n",
       " '会',\n",
       " '与',\n",
       " '公',\n",
       " '安',\n",
       " '部',\n",
       " '对',\n",
       " '此',\n",
       " '展',\n",
       " '开',\n",
       " '了',\n",
       " '联',\n",
       " '合',\n",
       " '调',\n",
       " '查',\n",
       " '。',\n",
       " '调',\n",
       " '查',\n",
       " '人',\n",
       " '员',\n",
       " '发',\n",
       " '现',\n",
       " '，',\n",
       " '惠',\n",
       " '发',\n",
       " '食',\n",
       " '品',\n",
       " '和',\n",
       " '嘉',\n",
       " '美',\n",
       " '包',\n",
       " '装',\n",
       " '背',\n",
       " '后',\n",
       " '都',\n",
       " '存',\n",
       " '在',\n",
       " '操',\n",
       " '盘',\n",
       " '方',\n",
       " '，',\n",
       " '而',\n",
       " '操',\n",
       " '盘',\n",
       " '方',\n",
       " '采',\n",
       " '取',\n",
       " '了',\n",
       " '截',\n",
       " '然',\n",
       " '不',\n",
       " '同',\n",
       " '的',\n",
       " '出',\n",
       " '货',\n",
       " '形',\n",
       " '式',\n",
       " '，',\n",
       " '惠',\n",
       " '发',\n",
       " '食',\n",
       " '品',\n",
       " '用',\n",
       " '了',\n",
       " '将',\n",
       " '近',\n",
       " '一',\n",
       " '周',\n",
       " '的',\n",
       " '时',\n",
       " '间',\n",
       " '完',\n",
       " '成',\n",
       " '全',\n",
       " '部',\n",
       " '出',\n",
       " '货',\n",
       " '，',\n",
       " '而',\n",
       " '嘉',\n",
       " '美',\n",
       " '包',\n",
       " '装',\n",
       " '采',\n",
       " '用',\n",
       " '的',\n",
       " '则',\n",
       " '是',\n",
       " '暴',\n",
       " '力',\n",
       " '出',\n",
       " '货',\n",
       " '，',\n",
       " '仅',\n",
       " '仅',\n",
       " '几',\n",
       " '分',\n",
       " '钟',\n",
       " '就',\n",
       " '完',\n",
       " '成',\n",
       " '了',\n",
       " '4',\n",
       " '亿',\n",
       " '多',\n",
       " '元',\n",
       " '的',\n",
       " '出',\n",
       " '货',\n",
       " '。']"
      ]
     },
     "execution_count": 17,
     "metadata": {},
     "output_type": "execute_result"
    }
   ],
   "source": [
    "bert_tokenizer.tokenize(example_text)"
   ]
  },
  {
   "cell_type": "markdown",
   "metadata": {},
   "source": [
    "## The basics of representation"
   ]
  },
  {
   "cell_type": "markdown",
   "metadata": {},
   "source": [
    "To obtain the representations for a batch of examples, we use the `forward` method of the model, as follows:"
   ]
  },
  {
   "cell_type": "code",
   "execution_count": 8,
   "metadata": {},
   "outputs": [],
   "source": [
    "with torch.no_grad():\n",
    "    reps = bert_model(torch.tensor([[4,7,12,7658]]), output_hidden_states=True)"
   ]
  },
  {
   "cell_type": "markdown",
   "metadata": {},
   "source": [
    "The return value `reps` is a special `transformers` class that holds a lot of representations. If we want just the final output representations for each token, we use `last_hidden_state`:"
   ]
  },
  {
   "cell_type": "code",
   "execution_count": 15,
   "metadata": {},
   "outputs": [
    {
     "data": {
      "text/plain": [
       "tensor([[[ 0.2842, -0.5367, -0.4848,  ..., -0.0969, -0.1886,  0.1269],\n",
       "         [ 0.2704, -0.3225, -0.4385,  ...,  0.4503,  0.1778, -0.0451],\n",
       "         [ 0.0424, -0.6269, -0.3040,  ...,  0.2810,  0.0090,  0.0894],\n",
       "         [ 0.6871, -0.0913, -0.0771,  ...,  0.7845, -0.8323, -0.2015]]])"
      ]
     },
     "execution_count": 15,
     "metadata": {},
     "output_type": "execute_result"
    }
   ],
   "source": [
    "reps.hidden_states[0]"
   ]
  },
  {
   "cell_type": "markdown",
   "metadata": {},
   "source": [
    "The shape indicates that our batch has 1 example, with 10 tokens, and each token is represented by a vector of dimensionality 768. "
   ]
  },
  {
   "cell_type": "markdown",
   "metadata": {},
   "source": [
    "Aside: Hugging Face `transformers` models also have a `pooler_output` value. For BERT, this corresponds to the output representation above the [CLS] token, which is often used as a summary representation for the entire sequence. However, __we cannot use `pooler_output` in the current context__, as `transformers` adds new randomized parameters on top of it, to facilitate fine-tuning. If we want the [CLS] representation, we need to use `reps.last_hidden_state[:, 0]`."
   ]
  },
  {
   "cell_type": "markdown",
   "metadata": {},
   "source": [
    "Finally, if we want access to the output representations from each layer of the model, we use `hidden_states`. This will be `None` unless we set `output_hidden_states=True` when using the `forward` method, as above. "
   ]
  },
  {
   "cell_type": "code",
   "execution_count": 44,
   "metadata": {},
   "outputs": [
    {
     "data": {
      "text/plain": [
       "13"
      ]
     },
     "execution_count": 44,
     "metadata": {},
     "output_type": "execute_result"
    }
   ],
   "source": [
    "len(reps.hidden_states)"
   ]
  },
  {
   "cell_type": "markdown",
   "metadata": {},
   "source": [
    "The length 13 corresponds to the initial embedding layer (layer 0) and the 12 layers of this BERT model."
   ]
  },
  {
   "cell_type": "code",
   "execution_count": 48,
   "metadata": {},
   "outputs": [
    {
     "data": {
      "text/plain": [
       "tensor([[-0.8694, -0.4143, -0.9141,  0.8212,  0.5426, -0.2580,  0.8638,  0.3429,\n",
       "         -0.7150, -1.0000, -0.4169,  0.8452,  0.9518,  0.6105,  0.8326, -0.7229,\n",
       "         -0.1818, -0.5577,  0.3598, -0.4858,  0.5933,  1.0000, -0.0489,  0.2961,\n",
       "          0.4730,  0.9345, -0.6415,  0.8481,  0.9246,  0.6877, -0.6744,  0.3293,\n",
       "         -0.9671, -0.2723, -0.9139, -0.9864,  0.4015, -0.7263, -0.2565, -0.0587,\n",
       "         -0.8344,  0.4093,  1.0000,  0.3756,  0.2735, -0.3851, -1.0000,  0.3255,\n",
       "         -0.7660,  0.8908,  0.8023,  0.7308,  0.2716,  0.5238,  0.4384, -0.0625,\n",
       "         -0.0445,  0.1650, -0.1997, -0.6719, -0.5889,  0.5072, -0.8344, -0.8773,\n",
       "          0.8185,  0.7522, -0.1746, -0.3423, -0.0955, -0.0576,  0.8644,  0.1172,\n",
       "         -0.2198, -0.7513,  0.6251,  0.2804, -0.7446,  1.0000, -0.5384, -0.9370,\n",
       "          0.7525,  0.7090,  0.6679, -0.4018,  0.6880, -1.0000,  0.6759, -0.1727,\n",
       "         -0.9737,  0.3173,  0.5694, -0.1877,  0.6774,  0.6837, -0.7263, -0.3219,\n",
       "         -0.4429, -0.7427, -0.4139, -0.5176,  0.1918, -0.3340, -0.2918, -0.4353,\n",
       "          0.4154, -0.5647, -0.3384,  0.5650,  0.1837,  0.6899,  0.5503, -0.4490,\n",
       "          0.4370, -0.9183,  0.5705, -0.3852, -0.9574, -0.7129, -0.9609,  0.7020,\n",
       "         -0.2549, -0.1825,  0.8723, -0.3217,  0.3870, -0.1892, -0.8033, -1.0000,\n",
       "         -0.6688, -0.7517, -0.2090, -0.2848, -0.9367, -0.9083,  0.7033,  0.9133,\n",
       "          0.3330,  0.9998, -0.3929,  0.8632, -0.2759, -0.7091,  0.4052, -0.5134,\n",
       "          0.8116,  0.2845, -0.7858,  0.2424, -0.2737,  0.2516, -0.5420, -0.4239,\n",
       "         -0.7721, -0.8688, -0.4379,  0.8775, -0.2865, -0.8670, -0.0779, -0.2829,\n",
       "         -0.5017,  0.8577,  0.7038,  0.4461, -0.3157,  0.5701,  0.5044,  0.5776,\n",
       "         -0.8216, -0.2024,  0.4182, -0.4162, -0.8515, -0.9285, -0.4490,  0.5497,\n",
       "          0.9718,  0.7142,  0.4013,  0.6330, -0.3783,  0.5705, -0.9184,  0.9522,\n",
       "         -0.2895,  0.2692, -0.2556,  0.4102, -0.8141,  0.1259,  0.8524, -0.5356,\n",
       "         -0.7790, -0.1786, -0.5934, -0.4475, -0.6887,  0.5788, -0.2318, -0.4479,\n",
       "         -0.2515,  0.7911,  0.9769,  0.6964,  0.2902,  0.7031, -0.8321, -0.4290,\n",
       "          0.1679,  0.3416,  0.2114,  0.9801, -0.6094, -0.1634, -0.8721, -0.9592,\n",
       "          0.1612, -0.7964, -0.1776, -0.8108,  0.6601,  0.2073,  0.4479,  0.4263,\n",
       "         -0.9648, -0.7336,  0.3432, -0.4945,  0.4269, -0.3320,  0.6148,  0.9470,\n",
       "         -0.5950,  0.5820,  0.9067, -0.7711, -0.7006,  0.8367, -0.3000,  0.9013,\n",
       "         -0.6692,  0.9925,  0.9143,  0.7116, -0.8389, -0.7868, -0.8257, -0.6858,\n",
       "         -0.2679,  0.2661,  0.8595,  0.7558,  0.4017, -0.1724, -0.6615,  0.9879,\n",
       "         -0.4163, -0.9328, -0.1766, -0.3039, -0.9724,  0.8012,  0.3465,  0.2439,\n",
       "         -0.5455, -0.5839, -0.8611,  0.9036,  0.1944,  0.9856, -0.2174, -0.9288,\n",
       "         -0.5836, -0.8056, -0.0622, -0.1653, -0.3148, -0.1484, -0.8859,  0.5127,\n",
       "          0.5552,  0.5151, -0.8312,  0.9944,  1.0000,  0.9401,  0.7969,  0.8177,\n",
       "         -0.9997, -0.0419,  1.0000, -0.9707, -1.0000, -0.8729, -0.6869,  0.3629,\n",
       "         -1.0000, -0.1677, -0.1000, -0.8219,  0.6564,  0.9245,  0.9739, -1.0000,\n",
       "          0.8423,  0.8643, -0.7853,  0.7657, -0.3192,  0.9179,  0.5825,  0.4467,\n",
       "         -0.2406,  0.4618, -0.9320, -0.8692, -0.5551, -0.5864,  0.9969,  0.1618,\n",
       "         -0.8120, -0.8585,  0.1275, -0.1495,  0.0437, -0.8983, -0.2968,  0.2277,\n",
       "          0.8109,  0.2348,  0.3945, -0.6728,  0.4177,  0.4145,  0.4198,  0.7622,\n",
       "         -0.9257, -0.6404, -0.7843, -0.0443, -0.6119, -0.9064,  0.9437, -0.4111,\n",
       "          0.8678,  1.0000,  0.4210, -0.8148,  0.5418,  0.2809, -0.7293,  1.0000,\n",
       "          0.7869, -0.9507, -0.6980,  0.5274, -0.5200, -0.7092,  0.9996, -0.1536,\n",
       "         -0.6393, -0.2144,  0.9507, -0.9743,  0.9926, -0.8567, -0.9042,  0.8972,\n",
       "          0.8592, -0.5017, -0.8494,  0.2336, -0.8271,  0.3443, -0.8747,  0.7172,\n",
       "          0.4091, -0.1886,  0.8282, -0.8903, -0.6602,  0.3798, -0.6015, -0.1544,\n",
       "          0.9098,  0.6528, -0.4253,  0.0308, -0.4049, -0.2767, -0.9181,  0.4874,\n",
       "          1.0000, -0.1919,  0.5871, -0.4408, -0.1227, -0.0450,  0.4781,  0.5651,\n",
       "         -0.3422, -0.8412,  0.5733, -0.8321, -0.9642,  0.6939,  0.3077, -0.3869,\n",
       "          1.0000,  0.4683,  0.3228,  0.3076,  0.9272,  0.2153,  0.5316,  0.7362,\n",
       "          0.9469, -0.3003,  0.7182,  0.7668, -0.8279, -0.3159, -0.6382,  0.0269,\n",
       "         -0.8798, -0.1423, -0.8944,  0.9223,  0.9069,  0.4190,  0.3188,  0.6888,\n",
       "          1.0000, -0.3119,  0.6986, -0.2734,  0.8384, -0.9996, -0.6456, -0.4181,\n",
       "         -0.1581, -0.8127, -0.3307,  0.2634, -0.9375,  0.8189,  0.5698, -0.9572,\n",
       "         -0.9666, -0.3238,  0.7499,  0.0501, -0.9668, -0.4959, -0.4043,  0.5886,\n",
       "         -0.4689, -0.8110, -0.0528, -0.3834,  0.5880, -0.3867,  0.6330,  0.8279,\n",
       "          0.4775, -0.6461, -0.1460, -0.1900, -0.7641,  0.7839, -0.8210, -0.8000,\n",
       "         -0.2518,  1.0000, -0.6237,  0.9047,  0.6918,  0.6035, -0.3345,  0.2760,\n",
       "          0.9305,  0.3171, -0.7244, -0.7589, -0.4505, -0.5296,  0.6257,  0.3962,\n",
       "          0.7598,  0.7085,  0.4249,  0.1600, -0.0165,  0.1641,  0.9974, -0.3340,\n",
       "         -0.2232, -0.6206, -0.2560, -0.3362, -0.3905,  1.0000,  0.4192,  0.4111,\n",
       "         -0.9710, -0.8090, -0.9162,  1.0000,  0.7599, -0.8167,  0.5963,  0.7238,\n",
       "         -0.2818,  0.6238, -0.3411, -0.3253,  0.3470,  0.2021,  0.8736, -0.5529,\n",
       "         -0.9189, -0.7174,  0.4206, -0.8799,  0.9998, -0.6037, -0.2997, -0.3445,\n",
       "          0.1982,  0.4949, -0.0052, -0.9342, -0.1289,  0.1618,  0.9263,  0.2992,\n",
       "         -0.6854, -0.8353,  0.8139,  0.7955, -0.7844, -0.8770,  0.9100, -0.9382,\n",
       "          0.4854,  1.0000,  0.4169,  0.2528,  0.2539, -0.5337,  0.2952, -0.4071,\n",
       "          0.6009, -0.8929, -0.3282, -0.1503,  0.4143, -0.2686, -0.0834,  0.5695,\n",
       "          0.2015, -0.6637, -0.6264, -0.2155,  0.4365,  0.8075, -0.3179, -0.2459,\n",
       "          0.2585, -0.1525, -0.8541, -0.3417, -0.3970, -1.0000,  0.5617, -1.0000,\n",
       "          0.4931,  0.3589, -0.2350,  0.7502, -0.0342,  0.5273, -0.6357, -0.7545,\n",
       "          0.2250,  0.6984, -0.4019, -0.4638, -0.6361,  0.3595, -0.1378,  0.2007,\n",
       "         -0.7034,  0.7054, -0.1266,  1.0000,  0.1699, -0.6208, -0.9483,  0.3361,\n",
       "         -0.4132,  1.0000, -0.8308, -0.9105,  0.4170, -0.7235, -0.7422,  0.3716,\n",
       "          0.0834, -0.7906, -0.9216,  0.8810,  0.8342, -0.6682,  0.3847, -0.3806,\n",
       "         -0.5678,  0.1919,  0.8058,  0.9618,  0.6239,  0.7769,  0.5745, -0.1996,\n",
       "          0.9074,  0.3214,  0.4843,  0.3473,  1.0000,  0.4445, -0.9246, -0.0267,\n",
       "         -0.9527, -0.3420, -0.9387,  0.1769,  0.2866,  0.7684, -0.3806,  0.8888,\n",
       "         -0.6850,  0.0255, -0.4758, -0.5093,  0.4194, -0.7986, -0.9552, -0.9543,\n",
       "          0.5903, -0.4943, -0.1845,  0.2962,  0.2546,  0.4656,  0.4388, -1.0000,\n",
       "          0.8700,  0.5575,  0.8748,  0.9042,  0.6407,  0.4728,  0.4119, -0.9642,\n",
       "         -0.9225, -0.3973, -0.3327,  0.8539,  0.7434,  0.7229,  0.4505, -0.5592,\n",
       "         -0.1884, -0.5272,  0.1518, -0.9791,  0.4880, -0.5680, -0.8962,  0.9119,\n",
       "          0.1264, -0.2685, -0.2576, -0.6076,  0.9022,  0.8061,  0.4684,  0.0788,\n",
       "          0.6065,  0.7808,  0.9458,  0.9780, -0.8898,  0.7237, -0.6277,  0.3776,\n",
       "          0.5538, -0.9129,  0.2750,  0.1978, -0.5707,  0.3391, -0.4060, -0.9387,\n",
       "          0.7901, -0.3263,  0.5849, -0.3615,  0.0618, -0.5325, -0.2434, -0.7481,\n",
       "         -0.6431,  0.7035,  0.3512,  0.7952,  0.6237, -0.1884, -0.7175, -0.1596,\n",
       "         -0.7729, -0.9019,  0.8776, -0.1175, -0.4484,  0.7000,  0.0780,  0.7050,\n",
       "          0.2837, -0.3692, -0.3056, -0.7995,  0.7724, -0.1244, -0.5711, -0.6601,\n",
       "          0.6429,  0.3596,  1.0000, -0.7215, -0.7947, -0.2792, -0.3452,  0.4475,\n",
       "         -0.5211, -1.0000,  0.4293, -0.4353,  0.7075, -0.6774,  0.7558, -0.7207,\n",
       "         -0.9616, -0.3960,  0.3180,  0.7202, -0.5482, -0.7015,  0.6783, -0.3207,\n",
       "          0.9154,  0.7896, -0.2857, -0.1918,  0.7562, -0.7785, -0.7144,  0.8106]])"
      ]
     },
     "execution_count": 48,
     "metadata": {},
     "output_type": "execute_result"
    }
   ],
   "source": [
    "reps[1]"
   ]
  },
  {
   "cell_type": "markdown",
   "metadata": {},
   "source": [
    "The final layer in `hidden_states` is identical to `last_hidden_state`:"
   ]
  },
  {
   "cell_type": "code",
   "execution_count": 16,
   "metadata": {},
   "outputs": [
    {
     "data": {
      "text/plain": [
       "torch.Size([1, 10, 768])"
      ]
     },
     "execution_count": 16,
     "metadata": {},
     "output_type": "execute_result"
    }
   ],
   "source": [
    "reps.hidden_states[-1].shape"
   ]
  },
  {
   "cell_type": "code",
   "execution_count": 17,
   "metadata": {},
   "outputs": [
    {
     "data": {
      "text/plain": [
       "True"
      ]
     },
     "execution_count": 17,
     "metadata": {},
     "output_type": "execute_result"
    }
   ],
   "source": [
    "torch.equal(reps.hidden_states[-1], reps.last_hidden_state)"
   ]
  },
  {
   "cell_type": "markdown",
   "metadata": {},
   "source": [
    "## The decontextualized approach\n",
    "\n",
    "As discussed above, Bommasani et al. (2020) define and explore two general strategies for obtaining static representations for word using a model like BERT. The simpler one involves processing individual words and, where they correspond to multiple tokens, pooling those token representations into a single vector using an operation like mean."
   ]
  },
  {
   "cell_type": "markdown",
   "metadata": {},
   "source": [
    "### Basic example"
   ]
  },
  {
   "cell_type": "markdown",
   "metadata": {},
   "source": [
    "To begin to see what this is like in practice, we'll use the method `vsm.hf_encode`, which maps texts to their ids, taking care to use `unk_token` for texts that can't otherwise be processed by the model."
   ]
  },
  {
   "cell_type": "markdown",
   "metadata": {},
   "source": [
    "Where a word corresponds to just one token in the vocabulary, it will get mapped to a single id:"
   ]
  },
  {
   "cell_type": "code",
   "execution_count": 18,
   "metadata": {},
   "outputs": [
    {
     "data": {
      "text/plain": [
       "['puppy']"
      ]
     },
     "execution_count": 18,
     "metadata": {},
     "output_type": "execute_result"
    }
   ],
   "source": [
    "bert_tokenizer.tokenize('puppy')"
   ]
  },
  {
   "cell_type": "code",
   "execution_count": 19,
   "metadata": {},
   "outputs": [
    {
     "data": {
      "text/plain": [
       "tensor([[17022]])"
      ]
     },
     "execution_count": 19,
     "metadata": {},
     "output_type": "execute_result"
    }
   ],
   "source": [
    "vsm.hf_encode(\"puppy\", bert_tokenizer)"
   ]
  },
  {
   "cell_type": "markdown",
   "metadata": {},
   "source": [
    "As we saw above, some words map to multiple tokens:"
   ]
  },
  {
   "cell_type": "code",
   "execution_count": 56,
   "metadata": {},
   "outputs": [
    {
     "data": {
      "text/plain": [
       "['s', '##nu', '##ffle', '##up', '##ag', '##us']"
      ]
     },
     "execution_count": 56,
     "metadata": {},
     "output_type": "execute_result"
    }
   ],
   "source": [
    "bert_tokenizer.tokenize('snuffleupagus')"
   ]
  },
  {
   "cell_type": "code",
   "execution_count": 64,
   "metadata": {},
   "outputs": [
    {
     "data": {
      "text/plain": [
       "tensor([[100]])"
      ]
     },
     "execution_count": 64,
     "metadata": {},
     "output_type": "execute_result"
    }
   ],
   "source": [
    "subtok_ids = vsm.hf_encode([\"snuffleupagus\"], bert_tokenizer)\n",
    "\n",
    "subtok_ids"
   ]
  },
  {
   "cell_type": "code",
   "execution_count": 66,
   "metadata": {},
   "outputs": [
    {
     "data": {
      "text/plain": [
       "1"
      ]
     },
     "execution_count": 66,
     "metadata": {},
     "output_type": "execute_result"
    }
   ],
   "source": [
    "bert_tokenizer.encode(\n",
    "                    [\"snuffleupagus\"],\n",
    "                    add_special_tokens=False,\n",
    "                    return_tensors='pt').shape[1]"
   ]
  },
  {
   "cell_type": "markdown",
   "metadata": {},
   "source": [
    "Next, the function `vsm.hf_represent` will map a batch of ids to their representations in a user-supplied model, at a specified layer in that model:"
   ]
  },
  {
   "cell_type": "code",
   "execution_count": 58,
   "metadata": {},
   "outputs": [
    {
     "data": {
      "text/plain": [
       "torch.Size([1, 6, 768])"
      ]
     },
     "execution_count": 58,
     "metadata": {},
     "output_type": "execute_result"
    }
   ],
   "source": [
    "subtok_reps = vsm.hf_represent(subtok_ids, bert_model, layer=-1)\n",
    "\n",
    "subtok_reps.shape"
   ]
  },
  {
   "cell_type": "markdown",
   "metadata": {},
   "source": [
    "The shape here: 1 example containing 6 (sub-word) tokens, each of dimension 768. With `layer=-1`, we obtain the final output repreentation from the entire model."
   ]
  },
  {
   "cell_type": "markdown",
   "metadata": {},
   "source": [
    "The final step is to pool together the 6 tokens. Here, we can use a variety of operations; [Bommasani et al. 2020](https://www.aclweb.org/anthology/2020.acl-main.431) find that `mean` is the best overall:"
   ]
  },
  {
   "cell_type": "code",
   "execution_count": 59,
   "metadata": {},
   "outputs": [
    {
     "data": {
      "text/plain": [
       "torch.Size([1, 768])"
      ]
     },
     "execution_count": 59,
     "metadata": {},
     "output_type": "execute_result"
    }
   ],
   "source": [
    "subtok_pooled = vsm.mean_pooling(subtok_reps)\n",
    "\n",
    "subtok_pooled.shape"
   ]
  },
  {
   "cell_type": "markdown",
   "metadata": {},
   "source": [
    "The function `vsm.mean_pooling` is simple `torch.mean` with `axis=1`. There are also predefined functions `vsm.max_pooling`, `vsm.min_pooling`, and `vsm.last_pooling` (representation for the final token)."
   ]
  },
  {
   "cell_type": "markdown",
   "metadata": {},
   "source": [
    "### Creating a full VSM\n",
    "\n",
    "Now we want to scale the above process to a large vocabulary, so that we can create a full VSM. The function `vsm.create_subword_pooling_vsm` makes this easy. To start, we get the vocabulary from one of our count VSMs (all of which have the same vocabulary):"
   ]
  },
  {
   "cell_type": "code",
   "execution_count": 73,
   "metadata": {},
   "outputs": [],
   "source": [
    "vsm_index = pd.read_csv(\n",
    "    os.path.join(DATA_HOME, 'yelp_window5-scaled.csv.gz'),\n",
    "    usecols=[0], index_col=0)"
   ]
  },
  {
   "cell_type": "code",
   "execution_count": 74,
   "metadata": {},
   "outputs": [],
   "source": [
    "vocab = list(vsm_index.index)"
   ]
  },
  {
   "cell_type": "code",
   "execution_count": 75,
   "metadata": {},
   "outputs": [
    {
     "data": {
      "text/plain": [
       "['):', ');', '..', '...', ':(']"
      ]
     },
     "execution_count": 75,
     "metadata": {},
     "output_type": "execute_result"
    }
   ],
   "source": [
    "vocab[: 5]"
   ]
  },
  {
   "cell_type": "markdown",
   "metadata": {},
   "source": [
    "And then we use `vsm.create_subword_pooling_vsm`:"
   ]
  },
  {
   "cell_type": "code",
   "execution_count": 76,
   "metadata": {},
   "outputs": [
    {
     "name": "stdout",
     "output_type": "stream",
     "text": [
      "Wall time: 3min 38s\n"
     ]
    }
   ],
   "source": [
    "%%time\n",
    "pooled_df = vsm.create_subword_pooling_vsm(\n",
    "    vocab, bert_tokenizer, bert_model, layer=1)"
   ]
  },
  {
   "cell_type": "markdown",
   "metadata": {},
   "source": [
    "The result, `pooled_df`, is a `pd.DataFrame` with its index given by `vocab`. This can be used directly in the word relatedness evaluations that are central the homework and associated bakeoff."
   ]
  },
  {
   "cell_type": "code",
   "execution_count": 28,
   "metadata": {},
   "outputs": [
    {
     "data": {
      "text/plain": [
       "(6000, 768)"
      ]
     },
     "execution_count": 28,
     "metadata": {},
     "output_type": "execute_result"
    }
   ],
   "source": [
    "pooled_df.shape"
   ]
  },
  {
   "cell_type": "code",
   "execution_count": 29,
   "metadata": {},
   "outputs": [
    {
     "data": {
      "text/html": [
       "<div>\n",
       "<style scoped>\n",
       "    .dataframe tbody tr th:only-of-type {\n",
       "        vertical-align: middle;\n",
       "    }\n",
       "\n",
       "    .dataframe tbody tr th {\n",
       "        vertical-align: top;\n",
       "    }\n",
       "\n",
       "    .dataframe thead th {\n",
       "        text-align: right;\n",
       "    }\n",
       "</style>\n",
       "<table border=\"1\" class=\"dataframe\">\n",
       "  <thead>\n",
       "    <tr style=\"text-align: right;\">\n",
       "      <th></th>\n",
       "      <th>0</th>\n",
       "      <th>1</th>\n",
       "      <th>2</th>\n",
       "      <th>3</th>\n",
       "      <th>4</th>\n",
       "    </tr>\n",
       "  </thead>\n",
       "  <tbody>\n",
       "    <tr>\n",
       "      <th>):</th>\n",
       "      <td>-0.576097</td>\n",
       "      <td>0.310341</td>\n",
       "      <td>-0.532733</td>\n",
       "      <td>-0.833050</td>\n",
       "      <td>-0.626199</td>\n",
       "    </tr>\n",
       "    <tr>\n",
       "      <th>);</th>\n",
       "      <td>-0.056739</td>\n",
       "      <td>0.058793</td>\n",
       "      <td>-0.243109</td>\n",
       "      <td>-0.800296</td>\n",
       "      <td>-0.119222</td>\n",
       "    </tr>\n",
       "    <tr>\n",
       "      <th>..</th>\n",
       "      <td>-0.271509</td>\n",
       "      <td>-0.009211</td>\n",
       "      <td>-0.190293</td>\n",
       "      <td>-0.275234</td>\n",
       "      <td>-0.276218</td>\n",
       "    </tr>\n",
       "    <tr>\n",
       "      <th>...</th>\n",
       "      <td>-0.380597</td>\n",
       "      <td>-0.054661</td>\n",
       "      <td>-0.161327</td>\n",
       "      <td>-0.299695</td>\n",
       "      <td>-0.299188</td>\n",
       "    </tr>\n",
       "    <tr>\n",
       "      <th>:(</th>\n",
       "      <td>-0.425129</td>\n",
       "      <td>0.215213</td>\n",
       "      <td>-1.130576</td>\n",
       "      <td>-1.066704</td>\n",
       "      <td>-0.371664</td>\n",
       "    </tr>\n",
       "  </tbody>\n",
       "</table>\n",
       "</div>"
      ],
      "text/plain": [
       "            0         1         2         3         4\n",
       "):  -0.576097  0.310341 -0.532733 -0.833050 -0.626199\n",
       ");  -0.056739  0.058793 -0.243109 -0.800296 -0.119222\n",
       "..  -0.271509 -0.009211 -0.190293 -0.275234 -0.276218\n",
       "... -0.380597 -0.054661 -0.161327 -0.299695 -0.299188\n",
       ":(  -0.425129  0.215213 -1.130576 -1.066704 -0.371664"
      ]
     },
     "execution_count": 29,
     "metadata": {},
     "output_type": "execute_result"
    }
   ],
   "source": [
    "pooled_df.iloc[: 5, :5]"
   ]
  },
  {
   "cell_type": "markdown",
   "metadata": {},
   "source": [
    "This approach, and the associated code, should work generally for all Hugging Face Transformer-based models. Bommasani et al. (2020) provide a lot of guidance when it comes to how the model, the layer choice, and the pooling function interact."
   ]
  },
  {
   "cell_type": "markdown",
   "metadata": {},
   "source": [
    "## The aggregated approach"
   ]
  },
  {
   "cell_type": "markdown",
   "metadata": {},
   "source": [
    "The aggregated is also straightfoward to implement given the above tool. To start, we can create a map from vocabulary items into their sequences of ids:"
   ]
  },
  {
   "cell_type": "code",
   "execution_count": 30,
   "metadata": {},
   "outputs": [],
   "source": [
    "vocab_ids = {w: vsm.hf_encode(w, bert_tokenizer)[0] for w in vocab}"
   ]
  },
  {
   "cell_type": "markdown",
   "metadata": {},
   "source": [
    "Next, let's assume we have a corpus of texts that contain the words of interest:"
   ]
  },
  {
   "cell_type": "code",
   "execution_count": 31,
   "metadata": {},
   "outputs": [],
   "source": [
    "corpus = [\n",
    "    \"This is a sailing example\",\n",
    "    \"It's fun to go sailing!\",\n",
    "    \"We should go sailing.\",\n",
    "    \"I'd like to go sailing and sailing\",\n",
    "    \"This is merely an example\"]"
   ]
  },
  {
   "cell_type": "markdown",
   "metadata": {},
   "source": [
    "The following embeds every corpus example, keeping `layer=1` representations:"
   ]
  },
  {
   "cell_type": "code",
   "execution_count": 32,
   "metadata": {},
   "outputs": [],
   "source": [
    "corpus_ids = [vsm.hf_encode(text, bert_tokenizer)\n",
    "              for text in corpus]"
   ]
  },
  {
   "cell_type": "code",
   "execution_count": 33,
   "metadata": {},
   "outputs": [],
   "source": [
    "corpus_reps = [vsm.hf_represent(ids, bert_model, layer=1)\n",
    "               for ids in corpus_ids]"
   ]
  },
  {
   "cell_type": "markdown",
   "metadata": {},
   "source": [
    "Finally, we define a convenience function for finding all the occurrences of a sublist in a larger list:"
   ]
  },
  {
   "cell_type": "code",
   "execution_count": 34,
   "metadata": {},
   "outputs": [],
   "source": [
    "def find_sublist_indices(sublist, mainlist):\n",
    "    indices = []\n",
    "    length = len(sublist)\n",
    "    for i in range(0, len(mainlist)-length+1):\n",
    "        if mainlist[i: i+length] == sublist:\n",
    "            indices.append((i, i+length))\n",
    "    return indices"
   ]
  },
  {
   "cell_type": "markdown",
   "metadata": {},
   "source": [
    "For example:"
   ]
  },
  {
   "cell_type": "code",
   "execution_count": 35,
   "metadata": {},
   "outputs": [
    {
     "data": {
      "text/plain": [
       "[(0, 2), (4, 6)]"
      ]
     },
     "execution_count": 35,
     "metadata": {},
     "output_type": "execute_result"
    }
   ],
   "source": [
    "find_sublist_indices([1,2], [1, 2, 3, 0, 1, 2, 3])"
   ]
  },
  {
   "cell_type": "markdown",
   "metadata": {},
   "source": [
    "And here's an example using our `vocab_ids` and `corpus`:"
   ]
  },
  {
   "cell_type": "code",
   "execution_count": 36,
   "metadata": {},
   "outputs": [],
   "source": [
    "sailing = vocab_ids['sailing']"
   ]
  },
  {
   "cell_type": "code",
   "execution_count": 37,
   "metadata": {},
   "outputs": [],
   "source": [
    "sailing_reps = []\n",
    "\n",
    "for ids, reps in zip(corpus_ids, corpus_reps):\n",
    "    offsets = find_sublist_indices(sailing, ids.squeeze(0))\n",
    "    for (start, end) in offsets:\n",
    "        pooled = vsm.mean_pooling(reps[:, start: end])\n",
    "        sailing_reps.append(pooled)\n",
    "\n",
    "sailing_rep = torch.mean(torch.cat(sailing_reps), axis=0).squeeze(0)"
   ]
  },
  {
   "cell_type": "code",
   "execution_count": 38,
   "metadata": {},
   "outputs": [
    {
     "data": {
      "text/plain": [
       "torch.Size([768])"
      ]
     },
     "execution_count": 38,
     "metadata": {},
     "output_type": "execute_result"
    }
   ],
   "source": [
    "sailing_rep.shape"
   ]
  },
  {
   "cell_type": "markdown",
   "metadata": {},
   "source": [
    "The above building blocks could be used as the basis for an original system and bakeoff entry for this unit. The major question is probably which data to use for the corpus."
   ]
  },
  {
   "cell_type": "markdown",
   "metadata": {},
   "source": [
    "## Some related work\n",
    "\n",
    "1. [Ethayarajh (2019)](https://www.aclweb.org/anthology/D19-1006/) uses dimensionality reduction techniques (akin to LSA) to derive static representations from contextual models, and explores layer-wise variation in detailed, with findings that are likely to align with your experiences using the above techniques.\n",
    "\n",
    "1. [Akbik et al (2019)](https://www.aclweb.org/anthology/N19-1078/) explore techniques similar to those of Bommasani et al. specifically for the supervised task of named entity recognition.\n",
    "\n",
    "1. [Wang et al. (2020](https://arxiv.org/pdf/1911.02929.pdf) learn static representations from contextual ones using techniques adapted from the word2vec model."
   ]
  }
 ],
 "metadata": {
  "kernelspec": {
   "display_name": "Python 3",
   "language": "python",
   "name": "python3"
  },
  "language_info": {
   "codemirror_mode": {
    "name": "ipython",
    "version": 3
   },
   "file_extension": ".py",
   "mimetype": "text/x-python",
   "name": "python",
   "nbconvert_exporter": "python",
   "pygments_lexer": "ipython3",
   "version": "3.8.8"
  }
 },
 "nbformat": 4,
 "nbformat_minor": 4
}
