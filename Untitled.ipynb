{
 "cells": [
  {
   "cell_type": "code",
   "execution_count": 1,
   "id": "3ac14f53",
   "metadata": {},
   "outputs": [],
   "source": [
    "import numpy as np\n",
    "import time\n",
    "a = np.random.randn(5000, 5000)"
   ]
  },
  {
   "cell_type": "code",
   "execution_count": 3,
   "id": "4ba6f00e",
   "metadata": {},
   "outputs": [
    {
     "name": "stdout",
     "output_type": "stream",
     "text": [
      "0.03191113471984863\n"
     ]
    }
   ],
   "source": []
  },
  {
   "cell_type": "code",
   "execution_count": 6,
   "id": "f690ae1d",
   "metadata": {},
   "outputs": [
    {
     "name": "stdout",
     "output_type": "stream",
     "text": [
      "Epoch: 0\n",
      "0.03187274932861328 (5000,)\n",
      "0.020945310592651367 (5000,)\n",
      "Epoch: 1\n",
      "0.0319514274597168 (5000,)\n",
      "0.018947839736938477 (5000,)\n",
      "Epoch: 2\n",
      "0.034906864166259766 (5000,)\n",
      "0.026927709579467773 (5000,)\n",
      "Epoch: 3\n",
      "0.03191399574279785 (5000,)\n",
      "0.01795196533203125 (5000,)\n",
      "Epoch: 4\n",
      "0.02892303466796875 (5000,)\n",
      "0.016954898834228516 (5000,)\n",
      "Epoch: 5\n",
      "0.028922557830810547 (5000,)\n",
      "0.024934053421020508 (5000,)\n",
      "Epoch: 6\n",
      "0.036900997161865234 (5000,)\n",
      "0.024932861328125 (5000,)\n",
      "Epoch: 7\n",
      "0.030916929244995117 (5000,)\n",
      "0.02293848991394043 (5000,)\n",
      "Epoch: 8\n",
      "0.03291201591491699 (5000,)\n",
      "0.025930404663085938 (5000,)\n",
      "Epoch: 9\n",
      "0.030916929244995117 (5000,)\n",
      "0.01795196533203125 (5000,)\n"
     ]
    }
   ],
   "source": [
    "for i in range(10):\n",
    "    print(f\"Epoch: {i}\")\n",
    "    start = time.time()\n",
    "    for _ in range(100000):\n",
    "        b = a[1, :]\n",
    "    print(time.time() - start, b.shape)\n",
    "\n",
    "    start = time.time()\n",
    "    for _ in range(100000):\n",
    "        b = a[1]\n",
    "    print(time.time() - start, b.shape)"
   ]
  },
  {
   "cell_type": "code",
   "execution_count": 7,
   "id": "041d74a1",
   "metadata": {},
   "outputs": [],
   "source": [
    "a2 = np.random.randint(0, 3, (2,3))"
   ]
  },
  {
   "cell_type": "code",
   "execution_count": 8,
   "id": "d93b8cdf",
   "metadata": {},
   "outputs": [
    {
     "data": {
      "text/plain": [
       "array([[0, 1, 2],\n",
       "       [1, 2, 0]])"
      ]
     },
     "execution_count": 8,
     "metadata": {},
     "output_type": "execute_result"
    }
   ],
   "source": [
    "a2"
   ]
  },
  {
   "cell_type": "code",
   "execution_count": 11,
   "id": "0dcb79a9",
   "metadata": {},
   "outputs": [],
   "source": [
    "a2[:, 2] = 3"
   ]
  },
  {
   "cell_type": "code",
   "execution_count": 12,
   "id": "5277905a",
   "metadata": {},
   "outputs": [
    {
     "data": {
      "text/plain": [
       "array([[0, 1, 3],\n",
       "       [1, 2, 3]])"
      ]
     },
     "execution_count": 12,
     "metadata": {},
     "output_type": "execute_result"
    }
   ],
   "source": [
    "a2"
   ]
  },
  {
   "cell_type": "code",
   "execution_count": 13,
   "id": "b5968e31",
   "metadata": {},
   "outputs": [],
   "source": [
    "a1 = np.array([[1,1,2,4], [4,5,2,3]])"
   ]
  },
  {
   "cell_type": "code",
   "execution_count": 17,
   "id": "41fbffc4",
   "metadata": {},
   "outputs": [
    {
     "data": {
      "text/plain": [
       "array([5, 6, 4, 7])"
      ]
     },
     "execution_count": 17,
     "metadata": {},
     "output_type": "execute_result"
    }
   ],
   "source": [
    "a1.sum(axis=0)"
   ]
  },
  {
   "cell_type": "code",
   "execution_count": null,
   "id": "06b386f9",
   "metadata": {},
   "outputs": [],
   "source": []
  }
 ],
 "metadata": {
  "kernelspec": {
   "display_name": "Python 3",
   "language": "python",
   "name": "python3"
  },
  "language_info": {
   "codemirror_mode": {
    "name": "ipython",
    "version": 3
   },
   "file_extension": ".py",
   "mimetype": "text/x-python",
   "name": "python",
   "nbconvert_exporter": "python",
   "pygments_lexer": "ipython3",
   "version": "3.8.8"
  }
 },
 "nbformat": 4,
 "nbformat_minor": 5
}
